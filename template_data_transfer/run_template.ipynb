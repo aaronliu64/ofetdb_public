{
 "cells": [
  {
   "cell_type": "code",
   "execution_count": 6,
   "metadata": {},
   "outputs": [
    {
     "ename": "KeyError",
     "evalue": "'mn'",
     "output_type": "error",
     "traceback": [
      "\u001b[1;31m---------------------------------------------------------------------------\u001b[0m",
      "\u001b[1;31mKeyError\u001b[0m                                  Traceback (most recent call last)",
      "\u001b[1;32m~\\Documents\\GitHub\\ofetdb_public\\template_data_transfer\\read_template.ipynb\u001b[0m in \u001b[0;36m<module>\u001b[1;34m\u001b[0m\n\u001b[0;32m      1\u001b[0m \u001b[1;33m\u001b[0m\u001b[0m\n\u001b[1;32m----> 2\u001b[1;33m \u001b[0msolution_id\u001b[0m\u001b[1;33m=\u001b[0m \u001b[0minsert_solution_info\u001b[0m\u001b[1;33m(\u001b[0m\u001b[0mparam_dict\u001b[0m\u001b[1;33m,\u001b[0m \u001b[0msolution_makeup\u001b[0m\u001b[1;33m)\u001b[0m\u001b[1;33m\u001b[0m\u001b[1;33m\u001b[0m\u001b[0m\n\u001b[0m\u001b[0;32m      3\u001b[0m \u001b[0msolution_treatment_id\u001b[0m\u001b[1;33m=\u001b[0m \u001b[0mstore_solution_treatment\u001b[0m\u001b[1;33m(\u001b[0m\u001b[0mparam_dict\u001b[0m\u001b[1;33m,\u001b[0m \u001b[0msolution_processing\u001b[0m\u001b[1;33m)\u001b[0m\u001b[1;33m\u001b[0m\u001b[1;33m\u001b[0m\u001b[0m\n\u001b[0;32m      4\u001b[0m \u001b[0mdevice_fab_id\u001b[0m\u001b[1;33m=\u001b[0m\u001b[0mstore_device_fabrication\u001b[0m\u001b[1;33m(\u001b[0m\u001b[0mdevice_fab\u001b[0m\u001b[1;33m,\u001b[0m \u001b[0mparam_dict\u001b[0m\u001b[1;33m)\u001b[0m\u001b[1;33m\u001b[0m\u001b[1;33m\u001b[0m\u001b[0m\n\u001b[0;32m      5\u001b[0m \u001b[0msubstrate_pretreat_id\u001b[0m\u001b[1;33m=\u001b[0m\u001b[0mstore_substrate_pretreatment\u001b[0m\u001b[1;33m(\u001b[0m\u001b[0mparam_dict\u001b[0m\u001b[1;33m,\u001b[0m \u001b[0msubstrate_pretreat\u001b[0m\u001b[1;33m)\u001b[0m\u001b[1;33m\u001b[0m\u001b[1;33m\u001b[0m\u001b[0m\n",
      "\u001b[1;32m~\\Documents\\GitHub\\ofetdb_public\\template_data_transfer\\read_template.ipynb\u001b[0m in \u001b[0;36minsert_solution_info\u001b[1;34m(param_dict, solution_makeup)\u001b[0m\n\u001b[0;32m      1\u001b[0m \u001b[1;32mdef\u001b[0m \u001b[0minsert_solution_info\u001b[0m\u001b[1;33m(\u001b[0m\u001b[0mparam_dict\u001b[0m\u001b[1;33m,\u001b[0m \u001b[0msolution_makeup\u001b[0m\u001b[1;33m)\u001b[0m\u001b[1;33m:\u001b[0m\u001b[1;33m\u001b[0m\u001b[1;33m\u001b[0m\u001b[0m\n\u001b[1;32m----> 2\u001b[1;33m     \u001b[0mconcentration\u001b[0m\u001b[1;33m,\u001b[0m \u001b[0msolvent_ids\u001b[0m\u001b[1;33m,\u001b[0m \u001b[0mvol_fracs\u001b[0m\u001b[1;33m,\u001b[0m \u001b[0mpolymer_ids\u001b[0m\u001b[1;33m,\u001b[0m \u001b[0mwt_fracs\u001b[0m \u001b[1;33m=\u001b[0m \u001b[0mstore_solution_info\u001b[0m\u001b[1;33m(\u001b[0m\u001b[0msolution_makeup\u001b[0m\u001b[1;33m)\u001b[0m\u001b[1;33m\u001b[0m\u001b[1;33m\u001b[0m\u001b[0m\n\u001b[0m\u001b[0;32m      3\u001b[0m \u001b[1;33m\u001b[0m\u001b[0m\n\u001b[0;32m      4\u001b[0m     \u001b[0mconn\u001b[0m \u001b[1;33m=\u001b[0m \u001b[0mpg\u001b[0m\u001b[1;33m.\u001b[0m\u001b[0mconnect\u001b[0m\u001b[1;33m(\u001b[0m\u001b[1;33m**\u001b[0m\u001b[0mparam_dict\u001b[0m\u001b[1;33m)\u001b[0m\u001b[1;33m\u001b[0m\u001b[1;33m\u001b[0m\u001b[0m\n\u001b[0;32m      5\u001b[0m \u001b[1;33m\u001b[0m\u001b[0m\n",
      "\u001b[1;32m~\\Documents\\GitHub\\ofetdb_public\\template_data_transfer\\read_template.ipynb\u001b[0m in \u001b[0;36mstore_solution_info\u001b[1;34m(solution_makeup)\u001b[0m\n\u001b[0;32m     43\u001b[0m         \u001b[0mcommon_name\u001b[0m \u001b[1;33m=\u001b[0m \u001b[0mpolymer\u001b[0m\u001b[1;33m[\u001b[0m\u001b[1;34m'common_name'\u001b[0m\u001b[1;33m]\u001b[0m\u001b[1;33m\u001b[0m\u001b[1;33m\u001b[0m\u001b[0m\n\u001b[0;32m     44\u001b[0m         \u001b[0miupac_name\u001b[0m \u001b[1;33m=\u001b[0m \u001b[0mpolymer\u001b[0m\u001b[1;33m[\u001b[0m\u001b[1;34m'iupac_name'\u001b[0m\u001b[1;33m]\u001b[0m\u001b[1;33m\u001b[0m\u001b[1;33m\u001b[0m\u001b[0m\n\u001b[1;32m---> 45\u001b[1;33m         \u001b[0mmn\u001b[0m \u001b[1;33m=\u001b[0m \u001b[0mpolymer\u001b[0m\u001b[1;33m[\u001b[0m\u001b[1;34m'mn'\u001b[0m\u001b[1;33m]\u001b[0m\u001b[1;33m\u001b[0m\u001b[1;33m\u001b[0m\u001b[0m\n\u001b[0m\u001b[0;32m     46\u001b[0m         \u001b[0mmw\u001b[0m \u001b[1;33m=\u001b[0m \u001b[0mpolymer\u001b[0m\u001b[1;33m[\u001b[0m\u001b[1;34m'mw'\u001b[0m\u001b[1;33m]\u001b[0m\u001b[1;33m\u001b[0m\u001b[1;33m\u001b[0m\u001b[0m\n\u001b[0;32m     47\u001b[0m         \u001b[0mdispersity\u001b[0m \u001b[1;33m=\u001b[0m \u001b[0mpolymer\u001b[0m\u001b[1;33m[\u001b[0m\u001b[1;34m'dispersity'\u001b[0m\u001b[1;33m]\u001b[0m\u001b[1;33m\u001b[0m\u001b[1;33m\u001b[0m\u001b[0m\n",
      "\u001b[1;31mKeyError\u001b[0m: 'mn'"
     ]
    }
   ],
   "source": [
    "import warnings\n",
    "\n",
    "#define file path\n",
    "#fpath = r'..\\data_files\\sample_template.xlsx'  # Add path for template file\n",
    "fpath = r'..\\data_files\\P3HT_PMMA_Nanoporous_1_mms.xlsx'  # Add path for template file\n",
    "\n",
    "#dictionary to connect to postgres database\n",
    "param_dict = {\n",
    "    \"host\": \"127.0.0.1\",\n",
    "    \"database\": \"ofetdb_testenv\",\n",
    "    \"user\": \"postgres\",\n",
    "    \"password\": \"Rahul2411!\",\n",
    "    \"port\": \"5432\",\n",
    "}\n",
    "\n",
    "warning = warnings.filterwarnings(\"ignore\", category=UserWarning, module=\"openpyxl\")\n",
    "\n",
    "# #run read_template file to import to all tables\n",
    "%run read_template.ipynb\n"
   ]
  },
  {
   "cell_type": "code",
   "execution_count": null,
   "metadata": {},
   "outputs": [],
   "source": []
  },
  {
   "cell_type": "code",
   "execution_count": null,
   "metadata": {},
   "outputs": [],
   "source": []
  }
 ],
 "metadata": {
  "kernelspec": {
   "display_name": "Python 3",
   "language": "python",
   "name": "python3"
  },
  "language_info": {
   "codemirror_mode": {
    "name": "ipython",
    "version": 3
   },
   "file_extension": ".py",
   "mimetype": "text/x-python",
   "name": "python",
   "nbconvert_exporter": "python",
   "pygments_lexer": "ipython3",
   "version": "3.7.3"
  }
 },
 "nbformat": 4,
 "nbformat_minor": 5
}
