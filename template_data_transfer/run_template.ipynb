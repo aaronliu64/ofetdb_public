{
 "cells": [
  {
   "cell_type": "code",
   "execution_count": 2,
   "metadata": {},
   "outputs": [
    {
     "name": "stderr",
     "output_type": "stream",
     "text": [
      "C:\\Users\\Aaron\\Anaconda3\\lib\\site-packages\\pandas\\compat\\_optional.py:138: UserWarning: Pandas requires version '2.7.0' or newer of 'numexpr' (version '2.6.9' currently installed).\n",
      "  warnings.warn(msg, UserWarning)\n"
     ]
    },
    {
     "name": "stdout",
     "output_type": "stream",
     "text": [
      "Solution makeup information saved successfully with id: 1\n",
      "Solution treatment saved successfully with id : 1\n",
      "Device fabrication information saved successfully with id: 1\n",
      "Substrate pretreatment saved successfully with id : 1\n",
      "Film deposition information saved successfully with id: 1\n",
      "Post Process treatment saved successfully with id: 1\n",
      "Device measurement information saved successfully with id: 1\n",
      "Other measurement information saved successfully with id: 2\n",
      "Other measurement information saved successfully with id: 3\n",
      "Record stored successfully\n"
     ]
    }
   ],
   "source": [
    "import warnings\n",
    "\n",
    "#define file path\n",
    "fpath = r'..\\db_feed\\sample_template.xlsx'  # Add path for template file\n",
    "\n",
    "#dictionary to connect to postgres database\n",
    "param_dict = {\n",
    "    \"host\": \"127.0.0.1\",\n",
    "    \"database\": \"ofetdb_testenv\",\n",
    "    \"user\": \"postgres\",\n",
    "    \"password\": \"Rahul2411!\",\n",
    "    \"port\": \"5432\",\n",
    "}\n",
    "\n",
    "warning = warnings.filterwarnings(\"ignore\", category=UserWarning, module=\"openpyxl\")\n",
    "\n",
    "# #run read_template file to import to all tables\n",
    "%run read_template.ipynb\n"
   ]
  },
  {
   "cell_type": "code",
   "execution_count": null,
   "metadata": {},
   "outputs": [],
   "source": []
  }
 ],
 "metadata": {
  "kernelspec": {
   "display_name": "Python 3",
   "language": "python",
   "name": "python3"
  },
  "language_info": {
   "codemirror_mode": {
    "name": "ipython",
    "version": 3
   },
   "file_extension": ".py",
   "mimetype": "text/x-python",
   "name": "python",
   "nbconvert_exporter": "python",
   "pygments_lexer": "ipython3",
   "version": "3.7.3"
  }
 },
 "nbformat": 4,
 "nbformat_minor": 5
}
