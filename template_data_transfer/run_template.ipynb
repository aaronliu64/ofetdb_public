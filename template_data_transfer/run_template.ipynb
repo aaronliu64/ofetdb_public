{
 "cells": [
  {
   "cell_type": "code",
   "execution_count": 1,
   "metadata": {},
   "outputs": [
    {
     "name": "stderr",
     "output_type": "stream",
     "text": [
      "b:\\Documents\\GitHub\\ofetdb_public\\venv\\lib\\site-packages\\nbformat\\__init__.py:93: MissingIDFieldWarning: Code cell is missing an id field, this will become a hard error in future nbformat versions. You may want to use `normalize()` on your notebooks before validations (available since nbformat 5.1.4). Previous versions of nbformat are fixing this issue transparently, and will stop doing so in the future.\n",
      "  validate(nb)\n"
     ]
    },
    {
     "name": "stdout",
     "output_type": "stream",
     "text": [
      "Solution makeup information saved successfully with id: 249\n",
      "Solution treatment saved successfully with id : 28\n",
      "Device fabrication information saved successfully with id: 73\n",
      "Substrate pretreatment saved successfully with id : 17\n",
      "Film deposition information saved successfully with id: 71\n",
      "Post Process treatment saved successfully with id: 53\n",
      "Device measurement information saved successfully with id: 1027\n",
      "Other measurement information saved successfully with id: 1028\n",
      "Other measurement information saved successfully with id: 1029\n",
      "Record stored successfully\n"
     ]
    }
   ],
   "source": [
    "import warnings\n",
    "\n",
    "#define file path\n",
    "fpath = r'..\\data_files\\sample_template.xlsx'  # Add path for template file\n",
    "\n",
    "#dictionary to connect to postgres database\n",
    "param_dict = {\n",
    "    \"host\": \"127.0.0.1\",\n",
    "    \"database\": \"ofetdb_testenv\",\n",
    "    \"user\": \"postgres\",\n",
    "    \"password\": \"password\",\n",
    "    \"port\": \"5432\",\n",
    "}\n",
    "\n",
    "warning = warnings.filterwarnings(\"ignore\", category=UserWarning, module=\"openpyxl\")\n",
    "\n",
    "# #run read_template file to import to all tables\n",
    "%run read_template.ipynb\n"
   ]
  },
  {
   "cell_type": "code",
   "execution_count": null,
   "metadata": {},
   "outputs": [],
   "source": []
  }
 ],
 "metadata": {
  "kernelspec": {
   "display_name": "Python 3",
   "language": "python",
   "name": "python3"
  },
  "language_info": {
   "codemirror_mode": {
    "name": "ipython",
    "version": 3
   },
   "file_extension": ".py",
   "mimetype": "text/x-python",
   "name": "python",
   "nbconvert_exporter": "python",
   "pygments_lexer": "ipython3",
   "version": "3.8.3"
  }
 },
 "nbformat": 4,
 "nbformat_minor": 5
}
