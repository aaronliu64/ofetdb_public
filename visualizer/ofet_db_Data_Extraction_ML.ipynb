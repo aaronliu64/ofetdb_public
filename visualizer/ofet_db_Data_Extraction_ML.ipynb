{
 "cells": [
  {
   "cell_type": "markdown",
   "metadata": {},
   "source": [
    "## Exercise : Extracting data from OFET-DB to perform ML"
   ]
  },
  {
   "cell_type": "markdown",
   "metadata": {},
   "source": [
    "Its great that we have data stored in a standardized manner in our database but now we need to extract data from this database in the form of a table containing descriptors [X] and property [y] to perform ML. This notebook will focus on how we can do that. "
   ]
  },
  {
   "cell_type": "markdown",
   "metadata": {},
   "source": [
    "First i want you to use the backup file called 20231206_ofetdb_v2_backup11 and add it to your pgadmin as a practice database. We will avoid working with the original database."
   ]
  },
  {
   "cell_type": "code",
   "execution_count": null,
   "metadata": {},
   "outputs": [],
   "source": [
    "# Connect to the database\n",
    "\n",
    "\n",
    "import psycopg2\n",
    "import pandas as pd\n",
    "import numpy as np\n",
    "import plotly.express as px\n",
    "\n",
    "\n",
    "#sample connection details\n",
    "# pgparams = {\n",
    "#     \"host\": \"127.0.0.1\",\n",
    "#     \"database\": \"ofetdb_testenv\",\n",
    "#     \"user\": \"postgres\",\n",
    "#     \"password\": \"password\",\n",
    "#     \"port\": \"5432\",\n",
    "# }\n",
    "\n",
    "\n",
    "# Set max number of displayed columns and rows in Jupyter Notebook\n",
    "pd.set_option('display.max_columns', None)\n",
    "pd.set_option('display.max_rows', None)\n",
    "\n",
    "\n",
    "pgparams = {\n",
    "    \"host\": \"\",\n",
    "    \"database\": \"\",\n",
    "    \"user\": \"\",\n",
    "    \"password\": \"\",\n",
    "    \"port\": \"\",\n",
    "}\n",
    "\n",
    "def read_select_query(query):\n",
    "\n",
    "    with psycopg2.connect(**pgparams) as conn:\n",
    "\n",
    "        df = pd.read_sql_query(query, conn)\n",
    "\n",
    "    return df\n"
   ]
  },
  {
   "cell_type": "markdown",
   "metadata": {},
   "source": [
    "## Simplest Scenario :\n",
    "\n",
    "- assume only single polymer scenarios, no blends first (wt_frac = 1)\n",
    "- assume only single solvent scenarios, no multiple solvents (vol_frac = 1)\n",
    "- show device substrate information \n",
    "- show film deposition information (spin, blade, etc). We will not use the parameters for now\n",
    "- dont go into detail of solution treatment, substrate pretreat and post process. Just show if treatment was performed\n",
    "- show hole mobility information"
   ]
  },
  {
   "cell_type": "markdown",
   "metadata": {},
   "source": [
    "Follow the code blocks below and we will eventually end up with a table containing this information "
   ]
  },
  {
   "cell_type": "markdown",
   "metadata": {},
   "source": [
    "1. Prepare a dataframe containing the sample_Id, citation_type and meta information from the experimental table (This one is done as a practice for you)"
   ]
  },
  {
   "cell_type": "code",
   "execution_count": null,
   "metadata": {
    "scrolled": true
   },
   "outputs": [],
   "source": [
    "## Adding all the experiment information \n",
    "\n",
    "# SQL query to fetch the required data\n",
    "query = '''\n",
    "    SELECT\n",
    "        s.sample_id,\n",
    "        e.citation_type,\n",
    "        e.meta as experiment_meta\n",
    "    FROM\n",
    "        SAMPLE s\n",
    "    JOIN\n",
    "        EXPERIMENT_INFO e ON s.exp_id = e.exp_id;\n",
    "'''\n",
    "\n",
    "# Use the read_select_query function to execute the query\n",
    "result_df = read_select_query(query)\n",
    "\n",
    "# Display the resulting DataFrame\n",
    "#print(result_df)\n",
    "\n",
    "result_df"
   ]
  },
  {
   "cell_type": "markdown",
   "metadata": {},
   "source": [
    "remember to keep adding to the existing query to add more information to the table. It is going to get complicated and long soon FYI. "
   ]
  },
  {
   "cell_type": "markdown",
   "metadata": {},
   "source": [
    "2. Now to this database add the solution concentration information"
   ]
  },
  {
   "cell_type": "code",
   "execution_count": null,
   "metadata": {
    "scrolled": true
   },
   "outputs": [],
   "source": []
  },
  {
   "cell_type": "markdown",
   "metadata": {},
   "source": [
    "3. Now to this table add the solvent information but only consider devices made from single solvent vol frac = 1"
   ]
  },
  {
   "cell_type": "code",
   "execution_count": null,
   "metadata": {},
   "outputs": [],
   "source": []
  },
  {
   "cell_type": "markdown",
   "metadata": {},
   "source": [
    "4. Now to this table add polymer information only for devices made from one polymer (no blends) (wt-frac = 1)"
   ]
  },
  {
   "cell_type": "code",
   "execution_count": null,
   "metadata": {},
   "outputs": [],
   "source": []
  },
  {
   "cell_type": "markdown",
   "metadata": {},
   "source": [
    "5. Now to this table add the device substrate information "
   ]
  },
  {
   "cell_type": "code",
   "execution_count": null,
   "metadata": {},
   "outputs": [],
   "source": []
  },
  {
   "cell_type": "markdown",
   "metadata": {},
   "source": [
    "6. Now to this table add the film deposition type only not the parameters associated with it"
   ]
  },
  {
   "cell_type": "code",
   "execution_count": null,
   "metadata": {},
   "outputs": [],
   "source": []
  },
  {
   "cell_type": "markdown",
   "metadata": {},
   "source": [
    "7. Now to this table add the solution treatment, substrate preatreat and post process informaiton \n",
    "\n",
    "1 if treatment is done and 0 if no treatment\n",
    "\n"
   ]
  },
  {
   "cell_type": "code",
   "execution_count": null,
   "metadata": {},
   "outputs": [],
   "source": []
  },
  {
   "cell_type": "markdown",
   "metadata": {},
   "source": [
    "8. Now to this table add the hole mobility information \n",
    "\n",
    "only keep devices that have an actual hole mobility value and is not Null or NAN"
   ]
  },
  {
   "cell_type": "code",
   "execution_count": null,
   "metadata": {},
   "outputs": [],
   "source": []
  },
  {
   "cell_type": "markdown",
   "metadata": {},
   "source": [
    "This is a simple version of the dataframe result_df. There are a couple more things we can now do to the dataframe to make it more machine readable. We no longer need to use sql queries. can just work with the dataframe and pandas"
   ]
  },
  {
   "cell_type": "markdown",
   "metadata": {},
   "source": [
    "9. The code block below will unpack the data stored in device_substrate_parameters and store it as columns (this one is done for you)"
   ]
  },
  {
   "cell_type": "code",
   "execution_count": null,
   "metadata": {},
   "outputs": [],
   "source": [
    " #unpacking the information stored in device_substrate_parameters\n",
    "\n",
    "import pandas as pd\n",
    "from pandas import json_normalize\n",
    "\n",
    "\n",
    "\n",
    "# # Extract the 'device_substrate_parameters' column and normalize it\n",
    "params_df = json_normalize(result_df['device_substrate_parameters'])\n",
    "\n",
    "# # Concatenate the original DataFrame with the new 'params_df'\n",
    "result_df = pd.concat([result_df, params_df], axis=1)\n",
    "\n",
    "# # Drop the original 'device_substrate_parameters' column\n",
    "result_df = result_df.drop('device_substrate_parameters', axis=1)\n",
    "\n",
    "# # Display the resulting DataFrame\n",
    "result_df"
   ]
  },
  {
   "cell_type": "code",
   "execution_count": null,
   "metadata": {
    "scrolled": false
   },
   "outputs": [],
   "source": [
    "\n",
    "# Drop unnecessary columns that won't be used for modeling\n",
    "columns_to_drop = ['film_deposition_params', 'citation_type', 'experiment_meta', 'solvent_vol_frac', 'solvent_iupac_name', 'polymer_iupac_name', 'dielectric_material_2', 'dielectric_thickness_2', 'dielectric_1_material', 'dielectric_1_thickness', 'substrate_material']\n",
    "result_df = result_df.drop(columns=columns_to_drop)\n",
    "\n",
    "# Display the resulting DataFrame\n",
    "result_df\n"
   ]
  },
  {
   "cell_type": "markdown",
   "metadata": {},
   "source": [
    "We are now going to do something called one hot encoding to convert columns with textual information into numbers (1 and 0)"
   ]
  },
  {
   "cell_type": "code",
   "execution_count": null,
   "metadata": {},
   "outputs": [],
   "source": [
    "# List of columns to one-hot encode\n",
    "columns_to_one_hot_encode = ['film_deposition_type', 'gate_material', 'dielectric_material', 'electrode_configuration']\n",
    "\n",
    "# Perform one-hot encoding\n",
    "result_df = pd.get_dummies(result_df, columns=columns_to_one_hot_encode)\n",
    "\n",
    "# Display the resulting DataFrame with one-hot encoding\n",
    "result_df\n"
   ]
  },
  {
   "cell_type": "markdown",
   "metadata": {},
   "source": [
    "Now lets see all the columns in this database "
   ]
  },
  {
   "cell_type": "code",
   "execution_count": null,
   "metadata": {},
   "outputs": [],
   "source": [
    "column_names = result_df.columns\n",
    "print(column_names)\n"
   ]
  },
  {
   "cell_type": "markdown",
   "metadata": {},
   "source": [
    "### Consolidating Descriptors\n",
    "\n",
    "We are going to consolidate some of the descriptors into one column. \n",
    "\n",
    "\n",
    "Coating :\n",
    "\n",
    "* film_deposition_type_MGC (dip,Dip,blade, inkjet, shear, wire) - value of 1 if any of these columns are true or else 0\n",
    "* film_deposition_type_spin\n",
    "* film_deposition_type_drop\n",
    "\n",
    "Gate Material :\n",
    "\n",
    "* gate_material_n_doped Si = ('gate_material_n-doped Si', 'gate_material_Si','gate_material_p-doped Si') \n",
    "\n",
    "* gate_material_other = ('gate_material_Al', 'gate_material_Au', 'gate_material_PEDOT:PSS', 'gate_material_PET','gate_material_glass')\n",
    "\n",
    "\n",
    "Dielectric Material :\n",
    "\n",
    "* dielectric_material_SiO2\n",
    "* dielectric_material_other = (\n",
    "        'dielectric_material_6FDA-DABC',\n",
    "       'dielectric_material_CYTOP', 'dielectric_material_PAN',\n",
    "       'dielectric_material_PMMA', 'dielectric_material_PTrFE',\n",
    "       'dielectric_material_PVP', 'dielectric_material_Shellac',\n",
    "       'dielectric_material_Si3N4')\n",
    "\n",
    "\n"
   ]
  },
  {
   "cell_type": "code",
   "execution_count": null,
   "metadata": {},
   "outputs": [],
   "source": []
  },
  {
   "cell_type": "code",
   "execution_count": null,
   "metadata": {},
   "outputs": [],
   "source": [
    "result_df"
   ]
  },
  {
   "cell_type": "code",
   "execution_count": null,
   "metadata": {},
   "outputs": [],
   "source": [
    "## replacing the pubchem_cid with solvent boiling point\n",
    "\n",
    "# Get unique PubChem CIDs from the 'solvent_pubchem_cid' column\n",
    "unique_pubchem_cids = result_df['solvent_pubchem_cid'].unique()\n",
    "\n",
    "# Display the unique PubChem CIDs\n",
    "print(unique_pubchem_cids)\n",
    "\n"
   ]
  },
  {
   "cell_type": "code",
   "execution_count": null,
   "metadata": {},
   "outputs": [],
   "source": [
    "# Dictionary mapping PubChem CIDs to boiling points\n",
    "boiling_point_dict = {\n",
    "    7964: 132,\n",
    "    6212: 62,\n",
    "    7239: 180.1,\n",
    "    6591: 146,\n",
    "    7809: 138,\n",
    "    13229: 238,\n",
    "    13: 213,\n",
    "    8030: 84,\n",
    "    1140: 111,\n",
    "    7501: 145,\n",
    "    241: 80,\n",
    "    6344: 40,\n",
    "    7503: 179\n",
    "}\n",
    "\n",
    "# Add a new column \"solvent_boiling_point\" based on PubChem CIDs\n",
    "result_df['solvent_boiling_point'] = result_df['solvent_pubchem_cid'].map(boiling_point_dict)\n",
    "\n",
    "\n",
    "# Drop unnecessary columns that won't be used for modeling\n",
    "columns_to_drop = ['solvent_pubchem_cid']\n",
    "result_df = result_df.drop(columns=columns_to_drop)\n",
    "\n",
    "# Display the resulting DataFrame\n",
    "result_df\n"
   ]
  },
  {
   "cell_type": "code",
   "execution_count": null,
   "metadata": {},
   "outputs": [],
   "source": [
    "column_names = result_df.columns\n",
    "print(column_names)"
   ]
  },
  {
   "cell_type": "code",
   "execution_count": null,
   "metadata": {},
   "outputs": [],
   "source": [
    "result_df_P3HT = result_df[result_df['polymer_common_name'] == 'P3HT']\n",
    "result_df_DPP_DTT = result_df[result_df['polymer_common_name'] != 'P3HT']\n"
   ]
  },
  {
   "cell_type": "markdown",
   "metadata": {},
   "source": [
    "### P3HT Modeling"
   ]
  },
  {
   "cell_type": "code",
   "execution_count": null,
   "metadata": {},
   "outputs": [],
   "source": [
    "result_df_P3HT = result_df_P3HT.drop(columns='polymer_common_name')\n",
    "result_df_P3HT"
   ]
  },
  {
   "cell_type": "code",
   "execution_count": null,
   "metadata": {},
   "outputs": [],
   "source": [
    "num_rows, num_columns = result_df_P3HT.shape\n",
    "print(f\"Number of rows: {num_rows}\")\n",
    "print(f\"Number of columns: {num_columns}\")\n"
   ]
  },
  {
   "cell_type": "markdown",
   "metadata": {},
   "source": [
    "### DPP-DTT Modeling"
   ]
  },
  {
   "cell_type": "code",
   "execution_count": null,
   "metadata": {},
   "outputs": [],
   "source": [
    "result_df_DPP_DTT = result_df_DPP_DTT.drop(columns='polymer_common_name')\n",
    "result_df_DPP_DTT"
   ]
  },
  {
   "cell_type": "code",
   "execution_count": null,
   "metadata": {},
   "outputs": [],
   "source": [
    "num_rows, num_columns = result_df_DPP_DTT.shape\n",
    "print(f\"Number of rows: {num_rows}\")\n",
    "print(f\"Number of columns: {num_columns}\")\n"
   ]
  }
 ],
 "metadata": {
  "kernelspec": {
   "display_name": "Python 3",
   "language": "python",
   "name": "python3"
  },
  "language_info": {
   "codemirror_mode": {
    "name": "ipython",
    "version": 3
   },
   "file_extension": ".py",
   "mimetype": "text/x-python",
   "name": "python",
   "nbconvert_exporter": "python",
   "pygments_lexer": "ipython3",
   "version": "3.7.3"
  }
 },
 "nbformat": 4,
 "nbformat_minor": 4
}
